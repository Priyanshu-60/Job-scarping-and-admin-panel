{
 "cells": [
  {
   "cell_type": "markdown",
   "id": "5610be08-a824-44c9-89eb-7d89c0adcb3a",
   "metadata": {},
   "source": [
    "# Install Required Libraries"
   ]
  },
  {
   "cell_type": "markdown",
   "id": "f7a19f0f-0753-49f2-9fe0-11ab0a3e25f5",
   "metadata": {},
   "source": [
    "pip install jupyter pymongo numpy pandas\r\n"
   ]
  },
  {
   "cell_type": "markdown",
   "id": "ae0a4740-3c67-42a7-ab74-1de1d1dced1b",
   "metadata": {},
   "source": [
    "# Connect Jupyter Notebook to MongoDB"
   ]
  },
  {
   "cell_type": "code",
   "execution_count": 1,
   "id": "5d06700a-dfce-4499-94b8-65242196db12",
   "metadata": {},
   "outputs": [
    {
     "ename": "ModuleNotFoundError",
     "evalue": "No module named 'pymongo'",
     "output_type": "error",
     "traceback": [
      "\u001b[1;31m---------------------------------------------------------------------------\u001b[0m",
      "\u001b[1;31mModuleNotFoundError\u001b[0m                       Traceback (most recent call last)",
      "Cell \u001b[1;32mIn[1], line 1\u001b[0m\n\u001b[1;32m----> 1\u001b[0m \u001b[38;5;28;01mimport\u001b[39;00m \u001b[38;5;21;01mpymongo\u001b[39;00m\n\u001b[0;32m      2\u001b[0m \u001b[38;5;28;01mimport\u001b[39;00m \u001b[38;5;21;01mnumpy\u001b[39;00m \u001b[38;5;28;01mas\u001b[39;00m \u001b[38;5;21;01mnp\u001b[39;00m\n\u001b[0;32m      3\u001b[0m \u001b[38;5;28;01mimport\u001b[39;00m \u001b[38;5;21;01mpandas\u001b[39;00m \u001b[38;5;28;01mas\u001b[39;00m \u001b[38;5;21;01mpd\u001b[39;00m\n",
      "\u001b[1;31mModuleNotFoundError\u001b[0m: No module named 'pymongo'"
     ]
    }
   ],
   "source": [
    "import pymongo\n",
    "import numpy as np\n",
    "import pandas as pd\n",
    "\n",
    "# Connect to MongoDB\n",
    "client = pymongo.MongoClient(\"mongodb://localhost:27017/\")\n",
    "db = client[\"job_database\"]  # Replace with your database name\n",
    "collection = db[\"jobs\"]  # Replace with your collection name\n",
    "\n",
    "# Check connection\n",
    "db.list_collection_names()\n",
    "\n",
    "\n",
    "# If it prints ['jobs'], MongoDB is connected."
   ]
  },
  {
   "cell_type": "markdown",
   "id": "d23338d7-71fd-4a2b-8f0b-29b427f058a6",
   "metadata": {},
   "source": [
    "# Fetch and Display Jobs in a DataFrame\n",
    "\n"
   ]
  },
  {
   "cell_type": "code",
   "execution_count": null,
   "id": "cb3a755e-1653-4a3e-9b3e-83e6299c6eeb",
   "metadata": {},
   "outputs": [],
   "source": [
    "# Fetch all jobs from MongoDB\n",
    "jobs = list(collection.find({}, {\"_id\": 0}))  # Exclude MongoDB `_id` field\n",
    "df = pd.DataFrame(jobs)\n",
    "\n",
    "# Display the first few rows\n",
    "df.head()\n"
   ]
  },
  {
   "cell_type": "markdown",
   "id": "308dfe9d-02b7-44a1-b5ff-2e51038cf641",
   "metadata": {},
   "source": [
    "# Search for a Job"
   ]
  },
  {
   "cell_type": "code",
   "execution_count": null,
   "id": "b4292111-17cf-4a2d-9b5a-0b90d53e9c5b",
   "metadata": {},
   "outputs": [],
   "source": [
    "def search_jobs(title):\n",
    "    results = list(collection.find({\"title\": {\"$regex\": title, \"$options\": \"i\"}}, {\"_id\": 0}))\n",
    "    return pd.DataFrame(results) if results else \"No matching jobs found.\"\n",
    "\n",
    "# Example: Search for Python jobs\n",
    "search_jobs(\"Python\")\n"
   ]
  },
  {
   "cell_type": "markdown",
   "id": "2aa7eca6-73ed-4a35-8190-2f7a56f9b2bb",
   "metadata": {},
   "source": [
    "# Calculate Average Salary for Python Developers in Your City\n",
    "\n",
    "\n"
   ]
  },
  {
   "cell_type": "code",
   "execution_count": null,
   "id": "185ab8d0-de15-45b0-b959-c5a79e0f3cd4",
   "metadata": {},
   "outputs": [],
   "source": [
    "def average_salary(city):\n",
    "    jobs = list(collection.find({\"title\": {\"$regex\": \"Python\", \"$options\": \"i\"}, \"location\": city}, {\"salary\": 1, \"_id\": 0}))\n",
    "    salaries = [job[\"salary\"] for job in jobs if \"salary\" in job and job[\"salary\"] is not None]\n",
    "    \n",
    "    return np.mean(salaries) if salaries else \"No salary data available.\"\n",
    "\n",
    "# Example: Replace 'YourCity' with your actual city\n",
    "average_salary(\"YourCity\")\n"
   ]
  },
  {
   "cell_type": "markdown",
   "id": "9d4a1d46-d60c-43d8-8e89-6cdaed819eb5",
   "metadata": {},
   "source": [
    "# Add a New Job"
   ]
  },
  {
   "cell_type": "code",
   "execution_count": null,
   "id": "47e10ce0-0569-4f21-ac6c-cfb5aefb72dc",
   "metadata": {},
   "outputs": [],
   "source": [
    "def add_job(title, company, location, salary, description):\n",
    "    new_job = {\n",
    "        \"title\": title,\n",
    "        \"company\": company,\n",
    "        \"location\": location,\n",
    "        \"salary\": salary,\n",
    "        \"description\": description\n",
    "    }\n",
    "    collection.insert_one(new_job)\n",
    "    return \"Job added successfully!\"\n",
    "\n",
    "# Example: Add a new job\n",
    "add_job(\"Python Developer\", \"TechCorp\", \"New York\", 120000, \"Looking for an experienced Python developer.\")\n"
   ]
  },
  {
   "cell_type": "markdown",
   "id": "7e6c1d9e-c6ec-4657-86cd-71539a7bd90f",
   "metadata": {},
   "source": [
    "# Delete a Job"
   ]
  },
  {
   "cell_type": "code",
   "execution_count": null,
   "id": "7d186aea-6417-4e38-86ce-e6e34b6a1352",
   "metadata": {},
   "outputs": [],
   "source": [
    "def delete_job(title):\n",
    "    result = collection.delete_one({\"title\": title})\n",
    "    return f\"Deleted {result.deleted_count} job(s).\"\n",
    "\n",
    "# Example: Delete a job\n",
    "delete_job(\"Python Developer\")\n"
   ]
  },
  {
   "cell_type": "markdown",
   "id": "45dd0ab9-30fa-49d8-8535-66dcb39d19a8",
   "metadata": {},
   "source": [
    "# Update a Job"
   ]
  },
  {
   "cell_type": "code",
   "execution_count": null,
   "id": "dca7be27-c5c1-4320-95ac-101e3ac4d0a2",
   "metadata": {},
   "outputs": [],
   "source": [
    "def update_job(old_title, new_title):\n",
    "    result = collection.update_one({\"title\": old_title}, {\"$set\": {\"title\": new_title}})\n",
    "    return f\"Updated {result.modified_count} job(s).\"\n",
    "\n",
    "# Example: Rename a job title\n",
    "update_job(\"Python Developer\", \"Senior Python Developer\")\n"
   ]
  }
 ],
 "metadata": {
  "kernelspec": {
   "display_name": "Python 3 (ipykernel)",
   "language": "python",
   "name": "python3"
  },
  "language_info": {
   "codemirror_mode": {
    "name": "ipython",
    "version": 3
   },
   "file_extension": ".py",
   "mimetype": "text/x-python",
   "name": "python",
   "nbconvert_exporter": "python",
   "pygments_lexer": "ipython3",
   "version": "3.11.7"
  }
 },
 "nbformat": 4,
 "nbformat_minor": 5
}
